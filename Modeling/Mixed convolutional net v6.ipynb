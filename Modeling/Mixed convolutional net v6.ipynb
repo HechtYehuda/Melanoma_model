{
 "cells": [
  {
   "cell_type": "markdown",
   "metadata": {},
   "source": [
    "# Model 6: Transfer learning model with denoised images and augmentation (validation split)"
   ]
  },
  {
   "cell_type": "markdown",
   "metadata": {},
   "source": [
    "This model utilizes transfer learning and the functional Keras API to produce a mixed convolutional model on denoised images. Because of imbalance, the melanoma images are augmented, and a validation set was segmented from the augmented data. A dropout layer was included to prevent overfitting. The model utilizes the [Xception](https://keras.io/api/applications/xception/) architecture, trained on the famous [ImageNet](https://image-net.org/) image database."
   ]
  },
  {
   "cell_type": "code",
   "execution_count": 1,
   "metadata": {},
   "outputs": [],
   "source": [
    "import tensorflow as tf\n",
    "from tensorflow.keras import Input, Model\n",
    "from tensorflow.keras.applications import Xception\n",
    "from tensorflow.keras.layers import Concatenate, Conv2D, Dense, Dropout, GlobalAveragePooling2D\n",
    "from tensorflow.keras.metrics import AUC, Recall\n",
    "from tensorflow.keras.optimizers import Adam\n",
    "from tensorflow.keras.preprocessing.image import ImageDataGenerator\n",
    "from tensorflow.keras.regularizers import l2\n",
    "from sklearn.metrics import classification_report\n",
    "import pickle\n",
    "import numpy as np\n",
    "import pandas as pd\n",
    "import matplotlib.pyplot as plt\n",
    "from sklearn.model_selection import train_test_split\n",
    "from tensorflow.compat.v1 import ConfigProto\n",
    "from tensorflow.compat.v1 import InteractiveSession\n",
    "import time\n",
    "\n",
    "config = ConfigProto()\n",
    "config.gpu_options.allow_growth = True\n",
    "session = InteractiveSession(config=config)"
   ]
  },
  {
   "cell_type": "code",
   "execution_count": 2,
   "metadata": {
    "scrolled": true
   },
   "outputs": [
    {
     "data": {
      "text/html": [
       "<div>\n",
       "<style scoped>\n",
       "    .dataframe tbody tr th:only-of-type {\n",
       "        vertical-align: middle;\n",
       "    }\n",
       "\n",
       "    .dataframe tbody tr th {\n",
       "        vertical-align: top;\n",
       "    }\n",
       "\n",
       "    .dataframe thead th {\n",
       "        text-align: right;\n",
       "    }\n",
       "</style>\n",
       "<table border=\"1\" class=\"dataframe\">\n",
       "  <thead>\n",
       "    <tr style=\"text-align: right;\">\n",
       "      <th></th>\n",
       "      <th>age_approx</th>\n",
       "      <th>Unknown</th>\n",
       "      <th>female</th>\n",
       "      <th>male</th>\n",
       "      <th>head/neck</th>\n",
       "      <th>lower extremity</th>\n",
       "      <th>oral/genital</th>\n",
       "      <th>palms/soles</th>\n",
       "      <th>torso</th>\n",
       "      <th>upper extremity</th>\n",
       "      <th>target</th>\n",
       "    </tr>\n",
       "  </thead>\n",
       "  <tbody>\n",
       "    <tr>\n",
       "      <th>0</th>\n",
       "      <td>45.0</td>\n",
       "      <td>0</td>\n",
       "      <td>0</td>\n",
       "      <td>1</td>\n",
       "      <td>1</td>\n",
       "      <td>0</td>\n",
       "      <td>0</td>\n",
       "      <td>0</td>\n",
       "      <td>0</td>\n",
       "      <td>0</td>\n",
       "      <td>0</td>\n",
       "    </tr>\n",
       "    <tr>\n",
       "      <th>1</th>\n",
       "      <td>45.0</td>\n",
       "      <td>0</td>\n",
       "      <td>1</td>\n",
       "      <td>0</td>\n",
       "      <td>0</td>\n",
       "      <td>0</td>\n",
       "      <td>0</td>\n",
       "      <td>0</td>\n",
       "      <td>0</td>\n",
       "      <td>1</td>\n",
       "      <td>0</td>\n",
       "    </tr>\n",
       "    <tr>\n",
       "      <th>2</th>\n",
       "      <td>50.0</td>\n",
       "      <td>0</td>\n",
       "      <td>1</td>\n",
       "      <td>0</td>\n",
       "      <td>0</td>\n",
       "      <td>1</td>\n",
       "      <td>0</td>\n",
       "      <td>0</td>\n",
       "      <td>0</td>\n",
       "      <td>0</td>\n",
       "      <td>0</td>\n",
       "    </tr>\n",
       "    <tr>\n",
       "      <th>3</th>\n",
       "      <td>45.0</td>\n",
       "      <td>0</td>\n",
       "      <td>1</td>\n",
       "      <td>0</td>\n",
       "      <td>1</td>\n",
       "      <td>0</td>\n",
       "      <td>0</td>\n",
       "      <td>0</td>\n",
       "      <td>0</td>\n",
       "      <td>0</td>\n",
       "      <td>0</td>\n",
       "    </tr>\n",
       "    <tr>\n",
       "      <th>4</th>\n",
       "      <td>55.0</td>\n",
       "      <td>0</td>\n",
       "      <td>1</td>\n",
       "      <td>0</td>\n",
       "      <td>0</td>\n",
       "      <td>0</td>\n",
       "      <td>0</td>\n",
       "      <td>0</td>\n",
       "      <td>0</td>\n",
       "      <td>1</td>\n",
       "      <td>0</td>\n",
       "    </tr>\n",
       "  </tbody>\n",
       "</table>\n",
       "</div>"
      ],
      "text/plain": [
       "   age_approx  Unknown  female  male  head/neck  lower extremity  \\\n",
       "0        45.0        0       0     1          1                0   \n",
       "1        45.0        0       1     0          0                0   \n",
       "2        50.0        0       1     0          0                1   \n",
       "3        45.0        0       1     0          1                0   \n",
       "4        55.0        0       1     0          0                0   \n",
       "\n",
       "   oral/genital  palms/soles  torso  upper extremity  target  \n",
       "0             0            0      0                0       0  \n",
       "1             0            0      0                1       0  \n",
       "2             0            0      0                0       0  \n",
       "3             0            0      0                0       0  \n",
       "4             0            0      0                1       0  "
      ]
     },
     "execution_count": 2,
     "metadata": {},
     "output_type": "execute_result"
    }
   ],
   "source": [
    "meta = pd.read_csv('../processed_data/train.csv', index_col=0)\n",
    "meta.head()"
   ]
  },
  {
   "cell_type": "markdown",
   "metadata": {},
   "source": [
    "### Metadata"
   ]
  },
  {
   "cell_type": "code",
   "execution_count": 3,
   "metadata": {},
   "outputs": [],
   "source": [
    "y = meta['target'].values.reshape(-1,1)\n",
    "X = meta.drop('target', axis=1).astype('ushort')"
   ]
  },
  {
   "cell_type": "code",
   "execution_count": 4,
   "metadata": {},
   "outputs": [
    {
     "data": {
      "text/plain": [
       "(33126, 11)"
      ]
     },
     "execution_count": 4,
     "metadata": {},
     "output_type": "execute_result"
    }
   ],
   "source": [
    "meta.shape"
   ]
  },
  {
   "cell_type": "code",
   "execution_count": 5,
   "metadata": {},
   "outputs": [
    {
     "data": {
      "text/plain": [
       "(33126, 1)"
      ]
     },
     "execution_count": 5,
     "metadata": {},
     "output_type": "execute_result"
    }
   ],
   "source": [
    "y.shape"
   ]
  },
  {
   "cell_type": "markdown",
   "metadata": {},
   "source": [
    "### Image data"
   ]
  },
  {
   "cell_type": "code",
   "execution_count": 6,
   "metadata": {},
   "outputs": [],
   "source": [
    "PATH = '../processed_data/processed_train_img_array.pkl'\n",
    "with open(PATH, 'rb') as file:\n",
    "    img_array = pickle.load(file)\n",
    "img_array = img_array.astype('ushort')"
   ]
  },
  {
   "cell_type": "code",
   "execution_count": 7,
   "metadata": {
    "scrolled": true
   },
   "outputs": [
    {
     "data": {
      "text/plain": [
       "(33126, 80, 120, 3)"
      ]
     },
     "execution_count": 7,
     "metadata": {},
     "output_type": "execute_result"
    }
   ],
   "source": [
    "img_array.shape"
   ]
  },
  {
   "cell_type": "markdown",
   "metadata": {},
   "source": [
    "### Augmentation"
   ]
  },
  {
   "cell_type": "code",
   "execution_count": 8,
   "metadata": {
    "scrolled": true
   },
   "outputs": [],
   "source": [
    "# Prepare augmentation files\n",
    "augmentation_files = pd.read_csv('../data/train.csv', usecols=['image_name'])\n",
    "augmentation_files = pd.concat([augmentation_files,meta], axis=1)\n",
    "augmentation_files = augmentation_files[augmentation_files['target'] == 1]\n",
    "augmentation_files['index'] = range(len(augmentation_files))\n",
    "\n",
    "raw_files_path = '../data/jpeg/train/'\n",
    "augmentation_files['image_name'] = augmentation_files['image_name'].map(lambda x: raw_files_path+x+'.jpg')"
   ]
  },
  {
   "cell_type": "code",
   "execution_count": 9,
   "metadata": {},
   "outputs": [],
   "source": [
    "# Instantiate data generator\n",
    "aug = ImageDataGenerator(rotation_range=270,\n",
    "                        height_shift_range=0.1,\n",
    "                        width_shift_range=0.1,\n",
    "                        brightness_range=[0.3,0.9],\n",
    "                        channel_shift_range=50.0,\n",
    "                        horizontal_flip=True,\n",
    "                        vertical_flip=True,\n",
    "                        shear_range=25.0)"
   ]
  },
  {
   "cell_type": "code",
   "execution_count": 10,
   "metadata": {
    "scrolled": false
   },
   "outputs": [
    {
     "name": "stdout",
     "output_type": "stream",
     "text": [
      "Found 584 validated image filenames.\n",
      "Batch 1 completed.\n",
      "Batch 2 completed.\n",
      "Batch 3 completed.\n",
      "Batch 4 completed.\n",
      "Batch 5 completed.\n",
      "Batch 6 completed.\n",
      "Batch 7 completed.\n",
      "Batch 8 completed.\n",
      "Batch 9 completed.\n",
      "Batch 10 completed.\n",
      "Batch 11 completed.\n",
      "Batch 12 completed.\n",
      "Batch 13 completed.\n",
      "Batch 14 completed.\n",
      "Batch 15 completed.\n",
      "Batch 16 completed.\n",
      "Batch 17 completed.\n",
      "Batch 18 completed.\n",
      "Batch 19 completed.\n",
      "Batch 20 completed.\n",
      "Batch 21 completed.\n",
      "Batch 22 completed.\n",
      "Batch 23 completed.\n",
      "Batch 24 completed.\n",
      "Batch 25 completed.\n",
      "Batch 26 completed.\n",
      "Batch 27 completed.\n",
      "Batch 28 completed.\n",
      "Batch 29 completed.\n",
      "Batch 30 completed.\n",
      "Batch 31 completed.\n",
      "Batch 32 completed.\n",
      "Batch 33 completed.\n",
      "Batch 34 completed.\n",
      "Batch 35 completed.\n",
      "Batch 36 completed.\n",
      "Batch 37 completed.\n",
      "Batch 38 completed.\n",
      "Batch 39 completed.\n",
      "Batch 40 completed.\n",
      "Batch 41 completed.\n",
      "Batch 42 completed.\n",
      "Batch 43 completed.\n",
      "Batch 44 completed.\n",
      "Batch 45 completed.\n",
      "Batch 46 completed.\n",
      "Batch 47 completed.\n",
      "Batch 48 completed.\n",
      "Batch 49 completed.\n",
      "Batch 50 completed.\n",
      "Batch 51 completed.\n",
      "Batch 52 completed.\n",
      "Batch 53 completed.\n",
      "Batch 54 completed.\n",
      "Batch 55 completed.\n",
      "Batch 56 completed.\n"
     ]
    }
   ],
   "source": [
    "ITERATIONS = img_array.shape[0]//len(augmentation_files)\n",
    "aug.fit(img_array)\n",
    "img_generator = aug.flow_from_dataframe(dataframe=augmentation_files,\n",
    "                                        x_col='image_name',\n",
    "                                        y_col='index',\n",
    "                                        class_mode='raw',\n",
    "                                        shuffle=False,\n",
    "                                        target_size=img_array.shape[1:3],\n",
    "                                        seed=867_5309\n",
    "                                       )\n",
    "\n",
    "# Augment data additional \n",
    "img_y = np.empty((1,1))\n",
    "iteration = 0\n",
    "for x_batch in img_generator:\n",
    "    iteration += 1\n",
    "    img_array = np.concatenate((img_array, x_batch[0]), axis=0)\n",
    "    img_y = np.concatenate((img_y, x_batch[1].reshape(-1,1)), axis=0)\n",
    "    print(f'Batch {iteration} completed.')\n",
    "    if iteration == ITERATIONS:\n",
    "        break\n",
    "img_y = img_y[1:]"
   ]
  },
  {
   "cell_type": "code",
   "execution_count": 11,
   "metadata": {},
   "outputs": [],
   "source": [
    "# Join metadata\n",
    "new_metadata = pd.DataFrame(img_y, columns=['index']).astype('int')\n",
    "new_metadata = pd.merge(new_metadata,augmentation_files,\n",
    "                        on='index',\n",
    "                        how='left',\n",
    "                        validate='many_to_many')[meta.columns]\n",
    "\n",
    "meta = pd.concat([meta, new_metadata.drop('target', axis=1)])\n",
    "y = np.concatenate([y, new_metadata['target'].values.reshape(-1,1)])"
   ]
  },
  {
   "cell_type": "markdown",
   "metadata": {},
   "source": [
    "### Model"
   ]
  },
  {
   "cell_type": "code",
   "execution_count": 12,
   "metadata": {},
   "outputs": [
    {
     "name": "stdout",
     "output_type": "stream",
     "text": [
      "Model: \"model\"\n",
      "__________________________________________________________________________________________________\n",
      "Layer (type)                    Output Shape         Param #     Connected to                     \n",
      "==================================================================================================\n",
      "input_2 (InputLayer)            [(None, 80, 120, 3)] 0                                            \n",
      "__________________________________________________________________________________________________\n",
      "xception (Functional)           (None, 3, 4, 2048)   20861480    input_2[0][0]                    \n",
      "__________________________________________________________________________________________________\n",
      "input_1 (InputLayer)            [(None, 10)]         0                                            \n",
      "__________________________________________________________________________________________________\n",
      "conv2d_4 (Conv2D)               (None, 3, 4, 8)      409608      xception[0][0]                   \n",
      "__________________________________________________________________________________________________\n",
      "dense (Dense)                   (None, 4)            44          input_1[0][0]                    \n",
      "__________________________________________________________________________________________________\n",
      "global_average_pooling2d (Globa (None, 8)            0           conv2d_4[0][0]                   \n",
      "__________________________________________________________________________________________________\n",
      "dense_1 (Dense)                 (None, 4)            20          dense[0][0]                      \n",
      "__________________________________________________________________________________________________\n",
      "dropout (Dropout)               (None, 8)            0           global_average_pooling2d[0][0]   \n",
      "__________________________________________________________________________________________________\n",
      "concatenate (Concatenate)       (None, 12)           0           dense_1[0][0]                    \n",
      "                                                                 dropout[0][0]                    \n",
      "__________________________________________________________________________________________________\n",
      "dense_2 (Dense)                 (None, 4)            52          concatenate[0][0]                \n",
      "__________________________________________________________________________________________________\n",
      "dense_3 (Dense)                 (None, 1)            5           dense_2[0][0]                    \n",
      "==================================================================================================\n",
      "Total params: 21,271,209\n",
      "Trainable params: 21,216,681\n",
      "Non-trainable params: 54,528\n",
      "__________________________________________________________________________________________________\n"
     ]
    }
   ],
   "source": [
    "LEARNING_RATE = 0.001\n",
    "recall = Recall(name='recall')\n",
    "\n",
    "# Define inputs\n",
    "meta_inputs = Input(shape=(10,))\n",
    "img_inputs = Input(shape=(80,120,3,))\n",
    "\n",
    "# Model 1\n",
    "meta_model = Dense(4, activation='relu')(meta_inputs)\n",
    "meta_model = Dense(4, activation='relu')(meta_model)\n",
    "\n",
    "# Model 2\n",
    "img_model = Xception(include_top=False, input_shape=(80,120,3,))(img_inputs)\n",
    "img_model = Conv2D(8, kernel_size=(5,5),\n",
    "                         padding='same',\n",
    "                         activation='relu')(img_model)\n",
    "img_model = GlobalAveragePooling2D()(img_model)\n",
    "img_model = Dropout(rate=0.35)(img_model)\n",
    "\n",
    "# Merge models\n",
    "merged_model = Concatenate()([meta_model, img_model])\n",
    "merged_model = Dense(4, activation='relu',\n",
    "                     kernel_regularizer=l2(l=0.04))(merged_model)\n",
    "merged_output = Dense(1, activation='sigmoid')(merged_model)\n",
    "\n",
    "\n",
    "# Define functional model\n",
    "model = Model(inputs=[meta_inputs, img_inputs], outputs=merged_output)\n",
    "\n",
    "# Compile model\n",
    "auc = AUC(name = 'auc')\n",
    "model.compile(Adam(learning_rate=LEARNING_RATE), loss='binary_crossentropy', metrics=[auc, recall])\n",
    "model.summary()"
   ]
  },
  {
   "cell_type": "markdown",
   "metadata": {},
   "source": [
    "See `fchollet`'s discussion of class weights [here](https://keras.io/examples/structured_data/imbalanced_classification/)."
   ]
  },
  {
   "cell_type": "code",
   "execution_count": 13,
   "metadata": {},
   "outputs": [
    {
     "data": {
      "text/plain": [
       "{0: 1.0715383197099133, 1: 14.978522336769759}"
      ]
     },
     "execution_count": 13,
     "metadata": {},
     "output_type": "execute_result"
    }
   ],
   "source": [
    "weight_for_0 = 1.0 / ((len(y)-y.sum())/len(y))\n",
    "weight_for_1 = 1.0 / (y.sum()/len(y))\n",
    "class_weight = {0: weight_for_0, 1: weight_for_1}\n",
    "class_weight"
   ]
  },
  {
   "cell_type": "code",
   "execution_count": 14,
   "metadata": {},
   "outputs": [],
   "source": [
    "EPOCHS = 10\n",
    "BATCH_SIZE = 5"
   ]
  },
  {
   "cell_type": "code",
   "execution_count": 15,
   "metadata": {
    "scrolled": false
   },
   "outputs": [
    {
     "name": "stdout",
     "output_type": "stream",
     "text": [
      "Epoch 1/10\n",
      "4638/4638 [==============================] - 234s 48ms/step - loss: 1.5749 - auc: 0.4648 - recall: 0.0000e+00 - val_loss: 0.3074 - val_auc: 0.3913 - val_recall: 0.0109\n",
      "Epoch 2/10\n",
      "4638/4638 [==============================] - 223s 48ms/step - loss: 0.7528 - auc: 0.5160 - recall: 0.0000e+00 - val_loss: 1.4420 - val_auc: 0.6197 - val_recall: 0.0000e+00\n",
      "Epoch 3/10\n",
      "4638/4638 [==============================] - 221s 48ms/step - loss: 0.6704 - auc: 0.5834 - recall: 0.0000e+00 - val_loss: 0.4990 - val_auc: 0.7160 - val_recall: 0.0000e+00\n",
      "Epoch 4/10\n",
      "4638/4638 [==============================] - 221s 48ms/step - loss: 0.6483 - auc: 0.6552 - recall: 0.0000e+00 - val_loss: 0.2864 - val_auc: 0.7554 - val_recall: 0.0000e+00\n",
      "Epoch 5/10\n",
      "4638/4638 [==============================] - 221s 48ms/step - loss: 0.6556 - auc: 0.6510 - recall: 0.0000e+00 - val_loss: 0.1330 - val_auc: 0.7607 - val_recall: 0.0000e+00\n",
      "Epoch 6/10\n",
      "4638/4638 [==============================] - 221s 48ms/step - loss: 0.6413 - auc: 0.6124 - recall: 0.0000e+00 - val_loss: 0.1519 - val_auc: 0.6951 - val_recall: 0.0000e+00\n",
      "Epoch 7/10\n",
      "4638/4638 [==============================] - 221s 48ms/step - loss: 0.5975 - auc: 0.6620 - recall: 0.0000e+00 - val_loss: 0.1861 - val_auc: 0.7543 - val_recall: 0.0000e+00\n",
      "Epoch 8/10\n",
      "4638/4638 [==============================] - 221s 48ms/step - loss: 0.6145 - auc: 0.6921 - recall: 0.0000e+00 - val_loss: 0.2472 - val_auc: 0.7243 - val_recall: 0.0000e+00\n",
      "Epoch 9/10\n",
      "4638/4638 [==============================] - 221s 48ms/step - loss: 0.5908 - auc: 0.7029 - recall: 0.0000e+00 - val_loss: 0.2208 - val_auc: 0.7500 - val_recall: 0.0000e+00\n",
      "Epoch 10/10\n",
      "4638/4638 [==============================] - 221s 48ms/step - loss: 0.5855 - auc: 0.6919 - recall: 0.0077 - val_loss: 0.3041 - val_auc: 0.5657 - val_recall: 0.0000e+00\n"
     ]
    }
   ],
   "source": [
    "history = model.fit(x=[X, img_array], y=y,\n",
    "                    epochs=EPOCHS,\n",
    "                    class_weight=class_weight,\n",
    "                    batch_size=BATCH_SIZE,\n",
    "                    validation_split=0.3)"
   ]
  },
  {
   "cell_type": "code",
   "execution_count": 16,
   "metadata": {},
   "outputs": [
    {
     "data": {
      "image/png": "[encoded data removed]",
      "text/plain": [
       "<Figure size 1440x864 with 2 Axes>"
      ]
     },
     "metadata": {
      "needs_background": "light"
     },
     "output_type": "display_data"
    }
   ],
   "source": [
    "X_length = np.arange(0, EPOCHS)\n",
    "\n",
    "plt.figure(1, figsize = (20, 12))\n",
    "plt.subplot(1,2,1)\n",
    "plt.xlabel('Epochs')\n",
    "plt.ylabel('Loss')\n",
    "plt.plot(X_length, history.history['loss'], label = 'Training Loss')\n",
    "plt.plot(X_length, history.history['val_loss'], label = 'Validation Loss')\n",
    "plt.grid(True)\n",
    "plt.xticks(X_length+1)\n",
    "plt.legend()\n",
    "plt.title('Loss', fontsize=30)\n",
    "\n",
    "plt.subplot(1,2,2)\n",
    "plt.xlabel('Epochs')\n",
    "plt.ylabel('AUC')\n",
    "plt.plot(X_length, history.history['auc'], label = 'Training AUC')\n",
    "plt.plot(X_length, history.history['val_auc'], label = 'Validation AUC')\n",
    "plt.grid(True)\n",
    "plt.xticks(X_length+1)\n",
    "plt.legend()\n",
    "_ = plt.title('AUC', fontsize=30)"
   ]
  }
 ],
 "metadata": {
  "kernelspec": {
   "display_name": "Python 3",
   "language": "python",
   "name": "python3"
  },
  "language_info": {
   "codemirror_mode": {
    "name": "ipython",
    "version": 3
   },
   "file_extension": ".py",
   "mimetype": "text/x-python",
   "name": "python",
   "nbconvert_exporter": "python",
   "pygments_lexer": "ipython3",
   "version": "3.8.5"
  }
 },
 "nbformat": 4,
 "nbformat_minor": 4
}
