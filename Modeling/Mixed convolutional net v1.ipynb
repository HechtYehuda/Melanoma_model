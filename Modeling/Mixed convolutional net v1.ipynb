{
 "cells": [
  {
   "cell_type": "code",
   "execution_count": 1,
   "metadata": {},
   "outputs": [],
   "source": [
    "import tensorflow as tf\n",
    "from tensorflow.keras import Input, Model\n",
    "from tensorflow.keras.layers import Average, Conv2D, Dense, Flatten, MaxPooling2D, ZeroPadding2D\n",
    "from tensorflow.keras.metrics import AUC\n",
    "import pickle\n",
    "import numpy as np\n",
    "import pandas as pd\n",
    "import matplotlib.pyplot as plt\n",
    "from sklearn.model_selection import train_test_split\n",
    "from tensorflow.compat.v1 import ConfigProto\n",
    "from tensorflow.compat.v1 import InteractiveSession\n",
    "\n",
    "config = ConfigProto()\n",
    "config.gpu_options.allow_growth = True\n",
    "session = InteractiveSession(config=config)"
   ]
  },
  {
   "cell_type": "code",
   "execution_count": 2,
   "metadata": {},
   "outputs": [
    {
     "data": {
      "text/html": [
       "<div>\n",
       "<style scoped>\n",
       "    .dataframe tbody tr th:only-of-type {\n",
       "        vertical-align: middle;\n",
       "    }\n",
       "\n",
       "    .dataframe tbody tr th {\n",
       "        vertical-align: top;\n",
       "    }\n",
       "\n",
       "    .dataframe thead th {\n",
       "        text-align: right;\n",
       "    }\n",
       "</style>\n",
       "<table border=\"1\" class=\"dataframe\">\n",
       "  <thead>\n",
       "    <tr style=\"text-align: right;\">\n",
       "      <th></th>\n",
       "      <th>target</th>\n",
       "      <th>IP_0001230</th>\n",
       "      <th>IP_0019713</th>\n",
       "      <th>IP_0036322</th>\n",
       "      <th>IP_0038436</th>\n",
       "      <th>IP_0038545</th>\n",
       "      <th>IP_0039318</th>\n",
       "      <th>IP_0041255</th>\n",
       "      <th>IP_0045462</th>\n",
       "      <th>IP_0046310</th>\n",
       "      <th>...</th>\n",
       "      <th>IP_9997715</th>\n",
       "      <th>Unknown</th>\n",
       "      <th>female</th>\n",
       "      <th>male</th>\n",
       "      <th>head/neck</th>\n",
       "      <th>lower extremity</th>\n",
       "      <th>oral/genital</th>\n",
       "      <th>palms/soles</th>\n",
       "      <th>torso</th>\n",
       "      <th>upper extremity</th>\n",
       "    </tr>\n",
       "  </thead>\n",
       "  <tbody>\n",
       "    <tr>\n",
       "      <th>0</th>\n",
       "      <td>0</td>\n",
       "      <td>0</td>\n",
       "      <td>0</td>\n",
       "      <td>0</td>\n",
       "      <td>0</td>\n",
       "      <td>0</td>\n",
       "      <td>0</td>\n",
       "      <td>0</td>\n",
       "      <td>0</td>\n",
       "      <td>0</td>\n",
       "      <td>...</td>\n",
       "      <td>0</td>\n",
       "      <td>0</td>\n",
       "      <td>0</td>\n",
       "      <td>1</td>\n",
       "      <td>1</td>\n",
       "      <td>0</td>\n",
       "      <td>0</td>\n",
       "      <td>0</td>\n",
       "      <td>0</td>\n",
       "      <td>0</td>\n",
       "    </tr>\n",
       "    <tr>\n",
       "      <th>1</th>\n",
       "      <td>0</td>\n",
       "      <td>0</td>\n",
       "      <td>0</td>\n",
       "      <td>0</td>\n",
       "      <td>0</td>\n",
       "      <td>0</td>\n",
       "      <td>0</td>\n",
       "      <td>0</td>\n",
       "      <td>0</td>\n",
       "      <td>0</td>\n",
       "      <td>...</td>\n",
       "      <td>0</td>\n",
       "      <td>0</td>\n",
       "      <td>1</td>\n",
       "      <td>0</td>\n",
       "      <td>0</td>\n",
       "      <td>0</td>\n",
       "      <td>0</td>\n",
       "      <td>0</td>\n",
       "      <td>0</td>\n",
       "      <td>1</td>\n",
       "    </tr>\n",
       "    <tr>\n",
       "      <th>2</th>\n",
       "      <td>0</td>\n",
       "      <td>0</td>\n",
       "      <td>0</td>\n",
       "      <td>0</td>\n",
       "      <td>0</td>\n",
       "      <td>0</td>\n",
       "      <td>0</td>\n",
       "      <td>0</td>\n",
       "      <td>0</td>\n",
       "      <td>0</td>\n",
       "      <td>...</td>\n",
       "      <td>0</td>\n",
       "      <td>0</td>\n",
       "      <td>1</td>\n",
       "      <td>0</td>\n",
       "      <td>0</td>\n",
       "      <td>1</td>\n",
       "      <td>0</td>\n",
       "      <td>0</td>\n",
       "      <td>0</td>\n",
       "      <td>0</td>\n",
       "    </tr>\n",
       "    <tr>\n",
       "      <th>3</th>\n",
       "      <td>0</td>\n",
       "      <td>0</td>\n",
       "      <td>0</td>\n",
       "      <td>0</td>\n",
       "      <td>0</td>\n",
       "      <td>0</td>\n",
       "      <td>0</td>\n",
       "      <td>0</td>\n",
       "      <td>0</td>\n",
       "      <td>0</td>\n",
       "      <td>...</td>\n",
       "      <td>0</td>\n",
       "      <td>0</td>\n",
       "      <td>1</td>\n",
       "      <td>0</td>\n",
       "      <td>1</td>\n",
       "      <td>0</td>\n",
       "      <td>0</td>\n",
       "      <td>0</td>\n",
       "      <td>0</td>\n",
       "      <td>0</td>\n",
       "    </tr>\n",
       "    <tr>\n",
       "      <th>4</th>\n",
       "      <td>0</td>\n",
       "      <td>0</td>\n",
       "      <td>0</td>\n",
       "      <td>0</td>\n",
       "      <td>0</td>\n",
       "      <td>0</td>\n",
       "      <td>0</td>\n",
       "      <td>0</td>\n",
       "      <td>0</td>\n",
       "      <td>0</td>\n",
       "      <td>...</td>\n",
       "      <td>0</td>\n",
       "      <td>0</td>\n",
       "      <td>1</td>\n",
       "      <td>0</td>\n",
       "      <td>0</td>\n",
       "      <td>0</td>\n",
       "      <td>0</td>\n",
       "      <td>0</td>\n",
       "      <td>0</td>\n",
       "      <td>1</td>\n",
       "    </tr>\n",
       "  </tbody>\n",
       "</table>\n",
       "<p>5 rows × 2066 columns</p>\n",
       "</div>"
      ],
      "text/plain": [
       "   target  IP_0001230  IP_0019713  IP_0036322  IP_0038436  IP_0038545  \\\n",
       "0       0           0           0           0           0           0   \n",
       "1       0           0           0           0           0           0   \n",
       "2       0           0           0           0           0           0   \n",
       "3       0           0           0           0           0           0   \n",
       "4       0           0           0           0           0           0   \n",
       "\n",
       "   IP_0039318  IP_0041255  IP_0045462  IP_0046310  ...  IP_9997715  Unknown  \\\n",
       "0           0           0           0           0  ...           0        0   \n",
       "1           0           0           0           0  ...           0        0   \n",
       "2           0           0           0           0  ...           0        0   \n",
       "3           0           0           0           0  ...           0        0   \n",
       "4           0           0           0           0  ...           0        0   \n",
       "\n",
       "   female  male  head/neck  lower extremity  oral/genital  palms/soles  torso  \\\n",
       "0       0     1          1                0             0            0      0   \n",
       "1       1     0          0                0             0            0      0   \n",
       "2       1     0          0                1             0            0      0   \n",
       "3       1     0          1                0             0            0      0   \n",
       "4       1     0          0                0             0            0      0   \n",
       "\n",
       "   upper extremity  \n",
       "0                0  \n",
       "1                1  \n",
       "2                0  \n",
       "3                0  \n",
       "4                1  \n",
       "\n",
       "[5 rows x 2066 columns]"
      ]
     },
     "execution_count": 2,
     "metadata": {},
     "output_type": "execute_result"
    }
   ],
   "source": [
    "meta = pd.read_csv('../processed_data/train.csv', index_col=0)\n",
    "meta.head()"
   ]
  },
  {
   "cell_type": "markdown",
   "metadata": {},
   "source": [
    "### Metadata"
   ]
  },
  {
   "cell_type": "code",
   "execution_count": 3,
   "metadata": {},
   "outputs": [],
   "source": [
    "y = meta['target'].values.reshape(-1,1)\n",
    "X = meta.drop('target', axis=1)\n",
    "meta_train, meta_test, y_train, y_test = train_test_split(X, y, test_size=0.3 ,random_state=867_5309)"
   ]
  },
  {
   "cell_type": "code",
   "execution_count": 4,
   "metadata": {},
   "outputs": [],
   "source": [
    "meta_train = meta_train.astype('ushort')\n",
    "meta_test = meta_test.astype('ushort')"
   ]
  },
  {
   "cell_type": "code",
   "execution_count": 5,
   "metadata": {},
   "outputs": [
    {
     "data": {
      "text/plain": [
       "(23188, 2065)"
      ]
     },
     "execution_count": 5,
     "metadata": {},
     "output_type": "execute_result"
    }
   ],
   "source": [
    "meta_train.shape"
   ]
  },
  {
   "cell_type": "code",
   "execution_count": 6,
   "metadata": {},
   "outputs": [
    {
     "data": {
      "text/plain": [
       "(23188, 1)"
      ]
     },
     "execution_count": 6,
     "metadata": {},
     "output_type": "execute_result"
    }
   ],
   "source": [
    "y_train.shape"
   ]
  },
  {
   "cell_type": "markdown",
   "metadata": {},
   "source": [
    "### Image data"
   ]
  },
  {
   "cell_type": "code",
   "execution_count": 7,
   "metadata": {},
   "outputs": [],
   "source": [
    "PATH = '../processed_data/train_img_array.pkl'\n",
    "with open(PATH, 'rb') as file:\n",
    "    img_array = pickle.load(file)\n",
    "img_array = img_array.astype('ushort')\n",
    "img_train, img_test, _1, _2 = train_test_split(img_array, y, test_size=0.3, random_state=867_5309) # Should split exactly the same as above"
   ]
  },
  {
   "cell_type": "code",
   "execution_count": 8,
   "metadata": {},
   "outputs": [
    {
     "data": {
      "text/plain": [
       "(23188, 80, 120, 3)"
      ]
     },
     "execution_count": 8,
     "metadata": {},
     "output_type": "execute_result"
    }
   ],
   "source": [
    "img_train.shape"
   ]
  },
  {
   "cell_type": "code",
   "execution_count": 9,
   "metadata": {},
   "outputs": [
    {
     "data": {
      "text/plain": [
       "(9938, 80, 120, 3)"
      ]
     },
     "execution_count": 9,
     "metadata": {},
     "output_type": "execute_result"
    }
   ],
   "source": [
    "img_test.shape"
   ]
  },
  {
   "cell_type": "markdown",
   "metadata": {},
   "source": [
    "### Model"
   ]
  },
  {
   "cell_type": "markdown",
   "metadata": {},
   "source": [
    "This model with utilize the functional Keras API to produce a mixed model."
   ]
  },
  {
   "cell_type": "code",
   "execution_count": 13,
   "metadata": {},
   "outputs": [
    {
     "name": "stdout",
     "output_type": "stream",
     "text": [
      "Model: \"model_1\"\n",
      "__________________________________________________________________________________________________\n",
      "Layer (type)                    Output Shape         Param #     Connected to                     \n",
      "==================================================================================================\n",
      "input_4 (InputLayer)            [(None, 80, 120, 3)] 0                                            \n",
      "__________________________________________________________________________________________________\n",
      "zero_padding2d_1 (ZeroPadding2D (None, 82, 122, 3)   0           input_4[0][0]                    \n",
      "__________________________________________________________________________________________________\n",
      "conv2d_3 (Conv2D)               (None, 82, 122, 32)  896         zero_padding2d_1[0][0]           \n",
      "__________________________________________________________________________________________________\n",
      "max_pooling2d_3 (MaxPooling2D)  (None, 41, 61, 32)   0           conv2d_3[0][0]                   \n",
      "__________________________________________________________________________________________________\n",
      "conv2d_4 (Conv2D)               (None, 41, 61, 64)   51264       max_pooling2d_3[0][0]            \n",
      "__________________________________________________________________________________________________\n",
      "max_pooling2d_4 (MaxPooling2D)  (None, 21, 31, 64)   0           conv2d_4[0][0]                   \n",
      "__________________________________________________________________________________________________\n",
      "conv2d_5 (Conv2D)               (None, 21, 31, 128)  204928      max_pooling2d_4[0][0]            \n",
      "__________________________________________________________________________________________________\n",
      "max_pooling2d_5 (MaxPooling2D)  (None, 11, 16, 128)  0           conv2d_5[0][0]                   \n",
      "__________________________________________________________________________________________________\n",
      "input_3 (InputLayer)            [(None, 2065)]       0                                            \n",
      "__________________________________________________________________________________________________\n",
      "flatten_1 (Flatten)             (None, 22528)        0           max_pooling2d_5[0][0]            \n",
      "__________________________________________________________________________________________________\n",
      "dense_4 (Dense)                 (None, 64)           132224      input_3[0][0]                    \n",
      "__________________________________________________________________________________________________\n",
      "dense_6 (Dense)                 (None, 1024)         23069696    flatten_1[0][0]                  \n",
      "__________________________________________________________________________________________________\n",
      "dense_5 (Dense)                 (None, 1)            65          dense_4[0][0]                    \n",
      "__________________________________________________________________________________________________\n",
      "dense_7 (Dense)                 (None, 1)            1025        dense_6[0][0]                    \n",
      "__________________________________________________________________________________________________\n",
      "average_1 (Average)             (None, 1)            0           dense_5[0][0]                    \n",
      "                                                                 dense_7[0][0]                    \n",
      "==================================================================================================\n",
      "Total params: 23,460,098\n",
      "Trainable params: 23,460,098\n",
      "Non-trainable params: 0\n",
      "__________________________________________________________________________________________________\n"
     ]
    }
   ],
   "source": [
    "# Define inputs\n",
    "meta_inputs = Input(shape=(2065,))\n",
    "img_inputs = Input(shape=(80,120,3,))\n",
    "\n",
    "# Model 1\n",
    "meta_layer1 = Dense(64, activation='relu')(meta_inputs)\n",
    "meta_output_layer = Dense(1, activation='sigmoid')(meta_layer1)\n",
    "\n",
    "# Model 2\n",
    "padding_layer = ZeroPadding2D(padding=(1,1))(img_inputs)\n",
    "img_conv_layer1 = Conv2D(32, kernel_size=(3,3), padding='same', activation='relu')(padding_layer)\n",
    "img_pooling_layer1 = MaxPooling2D(padding='same')(img_conv_layer1)\n",
    "img_conv_layer2 = Conv2D(64, kernel_size=(5,5), padding='same', activation='relu')(img_pooling_layer1)\n",
    "img_pooling_layer2 = MaxPooling2D(padding='same')(img_conv_layer2)\n",
    "img_conv_layer3 = Conv2D(128, kernel_size=(5,5), padding='same', activation='relu')(img_pooling_layer2)\n",
    "img_pooling_layer3 = MaxPooling2D(padding='same')(img_conv_layer3)\n",
    "img_flatten_layer = Flatten()(img_pooling_layer3)\n",
    "img_dense_layer = Dense(1024, activation='relu')(img_flatten_layer)\n",
    "img_output_layer = Dense(1, activation='sigmoid')(img_dense_layer)\n",
    "\n",
    "# Merge models\n",
    "merged = Average()([meta_output_layer, img_output_layer])\n",
    "\n",
    "# Define functional model\n",
    "model = Model(inputs=[meta_inputs, img_inputs], outputs=merged)\n",
    "\n",
    "# Compile model\n",
    "auc = AUC(name = 'auc')\n",
    "model.compile('adam', loss='binary_crossentropy', metrics=[auc])\n",
    "model.summary()"
   ]
  },
  {
   "cell_type": "code",
   "execution_count": 14,
   "metadata": {},
   "outputs": [
    {
     "name": "stdout",
     "output_type": "stream",
     "text": [
      "Epoch 1/15\n",
      "232/232 [==============================] - 14s 57ms/step - loss: 0.2202 - auc: 0.5245 - val_loss: 0.0842 - val_auc: 0.7057\n",
      "Epoch 2/15\n",
      "232/232 [==============================] - 12s 52ms/step - loss: 0.0827 - auc: 0.8428 - val_loss: 0.0820 - val_auc: 0.7395\n",
      "Epoch 3/15\n",
      "232/232 [==============================] - 12s 53ms/step - loss: 0.0776 - auc: 0.9073 - val_loss: 0.0804 - val_auc: 0.7447\n",
      "Epoch 4/15\n",
      "232/232 [==============================] - 12s 53ms/step - loss: 0.0722 - auc: 0.9395 - val_loss: 0.0788 - val_auc: 0.7452\n",
      "Epoch 5/15\n",
      "232/232 [==============================] - 12s 53ms/step - loss: 0.0642 - auc: 0.9545 - val_loss: 0.0804 - val_auc: 0.7440\n",
      "Epoch 6/15\n",
      "232/232 [==============================] - 12s 53ms/step - loss: 0.0566 - auc: 0.9550 - val_loss: 0.0838 - val_auc: 0.7332\n",
      "Epoch 7/15\n",
      "232/232 [==============================] - 12s 53ms/step - loss: 0.0482 - auc: 0.9695 - val_loss: 0.0875 - val_auc: 0.7120\n",
      "Epoch 8/15\n",
      "232/232 [==============================] - 12s 53ms/step - loss: 0.0495 - auc: 0.9694 - val_loss: 0.0916 - val_auc: 0.6866\n",
      "Epoch 9/15\n",
      "232/232 [==============================] - 12s 53ms/step - loss: 0.0464 - auc: 0.9738 - val_loss: 0.0941 - val_auc: 0.6762\n",
      "Epoch 10/15\n",
      "232/232 [==============================] - 12s 53ms/step - loss: 0.0429 - auc: 0.9719 - val_loss: 0.0965 - val_auc: 0.6731\n",
      "Epoch 11/15\n",
      "232/232 [==============================] - 12s 53ms/step - loss: 0.0402 - auc: 0.9783 - val_loss: 0.0988 - val_auc: 0.6757\n",
      "Epoch 12/15\n",
      "232/232 [==============================] - 12s 53ms/step - loss: 0.0408 - auc: 0.9707 - val_loss: 0.1006 - val_auc: 0.6753\n",
      "Epoch 13/15\n",
      "232/232 [==============================] - 12s 53ms/step - loss: 0.0410 - auc: 0.9803 - val_loss: 0.1045 - val_auc: 0.6681\n",
      "Epoch 14/15\n",
      "232/232 [==============================] - 12s 53ms/step - loss: 0.0412 - auc: 0.9792 - val_loss: 0.1057 - val_auc: 0.6708\n",
      "Epoch 15/15\n",
      "232/232 [==============================] - 12s 53ms/step - loss: 0.0402 - auc: 0.9819 - val_loss: 0.1082 - val_auc: 0.6721\n"
     ]
    }
   ],
   "source": [
    "epochs = 15\n",
    "history = model.fit([meta_train, img_train], y_train, epochs=epochs, batch_size=100, validation_data=([meta_test, img_test], y_test))"
   ]
  },
  {
   "cell_type": "code",
   "execution_count": 15,
   "metadata": {},
   "outputs": [
    {
     "data": {
      "image/png": "[encoded data removed]",
      "text/plain": [
       "<Figure size 1440x864 with 2 Axes>"
      ]
     },
     "metadata": {
      "needs_background": "light"
     },
     "output_type": "display_data"
    }
   ],
   "source": [
    "X = np.arange(0, epochs)\n",
    "\n",
    "plt.figure(1, figsize = (20, 12))\n",
    "plt.subplot(1,2,1)\n",
    "plt.xlabel('Epochs')\n",
    "plt.ylabel('Loss')\n",
    "plt.plot(X, history.history['loss'], label = 'Training Loss')\n",
    "plt.plot(X, history.history['val_loss'], label = 'Validation Loss')\n",
    "plt.grid(True)\n",
    "plt.xticks(X)\n",
    "plt.legend()\n",
    "plt.title('Loss', fontsize=30)\n",
    "\n",
    "plt.subplot(1,2,2)\n",
    "plt.xlabel('Epochs')\n",
    "plt.ylabel('AUC')\n",
    "plt.plot(X, history.history['auc'], label = 'Training AUC')\n",
    "plt.plot(X, history.history['val_auc'], label = 'Validation AUC')\n",
    "plt.grid(True)\n",
    "plt.xticks(X)\n",
    "plt.legend()\n",
    "_ = plt.title('AUC', fontsize=30)"
   ]
  },
  {
   "cell_type": "markdown",
   "metadata": {},
   "source": [
    "There is a great deal of overfitting in this model."
   ]
  }
 ],
 "metadata": {
  "kernelspec": {
   "display_name": "Python 3",
   "language": "python",
   "name": "python3"
  },
  "language_info": {
   "codemirror_mode": {
    "name": "ipython",
    "version": 3
   },
   "file_extension": ".py",
   "mimetype": "text/x-python",
   "name": "python",
   "nbconvert_exporter": "python",
   "pygments_lexer": "ipython3",
   "version": "3.8.5"
  }
 },
 "nbformat": 4,
 "nbformat_minor": 4
}
