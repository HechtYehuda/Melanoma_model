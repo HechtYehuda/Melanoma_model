{
 "cells": [
  {
   "cell_type": "markdown",
   "metadata": {},
   "source": [
    "# Model 3: Transfer learning model with denoising and image rotation"
   ]
  },
  {
   "cell_type": "markdown",
   "metadata": {},
   "source": [
    "This model utilizes transfer learning and the functional Keras API to produce a mixed convolutional model on densoised images augmented with rotation. The model utilizes the [Xception](https://keras.io/api/applications/xception/) architecture, trained on the famous [ImageNet](https://image-net.org/) image database."
   ]
  },
  {
   "cell_type": "code",
   "execution_count": 1,
   "metadata": {},
   "outputs": [],
   "source": [
    "import tensorflow as tf\n",
    "from tensorflow.keras import Input, Model\n",
    "from tensorflow.keras.applications import Xception\n",
    "from tensorflow.keras.layers import Concatenate, Conv2D, Dense, Dropout, GlobalAveragePooling2D\n",
    "from tensorflow.keras.metrics import AUC\n",
    "from tensorflow.keras.optimizers import Adam\n",
    "from sklearn.metrics import classification_report\n",
    "import pickle\n",
    "import numpy as np\n",
    "import pandas as pd\n",
    "import matplotlib.pyplot as plt\n",
    "from sklearn.model_selection import train_test_split\n",
    "from tensorflow.compat.v1 import ConfigProto\n",
    "from tensorflow.compat.v1 import InteractiveSession\n",
    "\n",
    "config = ConfigProto()\n",
    "config.gpu_options.allow_growth = True\n",
    "session = InteractiveSession(config=config)"
   ]
  },
  {
   "cell_type": "code",
   "execution_count": 2,
   "metadata": {
    "scrolled": false
   },
   "outputs": [
    {
     "data": {
      "text/html": [
       "<div>\n",
       "<style scoped>\n",
       "    .dataframe tbody tr th:only-of-type {\n",
       "        vertical-align: middle;\n",
       "    }\n",
       "\n",
       "    .dataframe tbody tr th {\n",
       "        vertical-align: top;\n",
       "    }\n",
       "\n",
       "    .dataframe thead th {\n",
       "        text-align: right;\n",
       "    }\n",
       "</style>\n",
       "<table border=\"1\" class=\"dataframe\">\n",
       "  <thead>\n",
       "    <tr style=\"text-align: right;\">\n",
       "      <th></th>\n",
       "      <th>age_approx</th>\n",
       "      <th>Unknown</th>\n",
       "      <th>female</th>\n",
       "      <th>male</th>\n",
       "      <th>head/neck</th>\n",
       "      <th>lower extremity</th>\n",
       "      <th>oral/genital</th>\n",
       "      <th>palms/soles</th>\n",
       "      <th>torso</th>\n",
       "      <th>upper extremity</th>\n",
       "      <th>target</th>\n",
       "    </tr>\n",
       "  </thead>\n",
       "  <tbody>\n",
       "    <tr>\n",
       "      <th>0</th>\n",
       "      <td>45.0</td>\n",
       "      <td>0</td>\n",
       "      <td>0</td>\n",
       "      <td>1</td>\n",
       "      <td>1</td>\n",
       "      <td>0</td>\n",
       "      <td>0</td>\n",
       "      <td>0</td>\n",
       "      <td>0</td>\n",
       "      <td>0</td>\n",
       "      <td>0</td>\n",
       "    </tr>\n",
       "    <tr>\n",
       "      <th>1</th>\n",
       "      <td>45.0</td>\n",
       "      <td>0</td>\n",
       "      <td>1</td>\n",
       "      <td>0</td>\n",
       "      <td>0</td>\n",
       "      <td>0</td>\n",
       "      <td>0</td>\n",
       "      <td>0</td>\n",
       "      <td>0</td>\n",
       "      <td>1</td>\n",
       "      <td>0</td>\n",
       "    </tr>\n",
       "    <tr>\n",
       "      <th>2</th>\n",
       "      <td>50.0</td>\n",
       "      <td>0</td>\n",
       "      <td>1</td>\n",
       "      <td>0</td>\n",
       "      <td>0</td>\n",
       "      <td>1</td>\n",
       "      <td>0</td>\n",
       "      <td>0</td>\n",
       "      <td>0</td>\n",
       "      <td>0</td>\n",
       "      <td>0</td>\n",
       "    </tr>\n",
       "    <tr>\n",
       "      <th>3</th>\n",
       "      <td>45.0</td>\n",
       "      <td>0</td>\n",
       "      <td>1</td>\n",
       "      <td>0</td>\n",
       "      <td>1</td>\n",
       "      <td>0</td>\n",
       "      <td>0</td>\n",
       "      <td>0</td>\n",
       "      <td>0</td>\n",
       "      <td>0</td>\n",
       "      <td>0</td>\n",
       "    </tr>\n",
       "    <tr>\n",
       "      <th>4</th>\n",
       "      <td>55.0</td>\n",
       "      <td>0</td>\n",
       "      <td>1</td>\n",
       "      <td>0</td>\n",
       "      <td>0</td>\n",
       "      <td>0</td>\n",
       "      <td>0</td>\n",
       "      <td>0</td>\n",
       "      <td>0</td>\n",
       "      <td>1</td>\n",
       "      <td>0</td>\n",
       "    </tr>\n",
       "  </tbody>\n",
       "</table>\n",
       "</div>"
      ],
      "text/plain": [
       "   age_approx  Unknown  female  male  head/neck  lower extremity  \\\n",
       "0        45.0        0       0     1          1                0   \n",
       "1        45.0        0       1     0          0                0   \n",
       "2        50.0        0       1     0          0                1   \n",
       "3        45.0        0       1     0          1                0   \n",
       "4        55.0        0       1     0          0                0   \n",
       "\n",
       "   oral/genital  palms/soles  torso  upper extremity  target  \n",
       "0             0            0      0                0       0  \n",
       "1             0            0      0                1       0  \n",
       "2             0            0      0                0       0  \n",
       "3             0            0      0                0       0  \n",
       "4             0            0      0                1       0  "
      ]
     },
     "execution_count": 2,
     "metadata": {},
     "output_type": "execute_result"
    }
   ],
   "source": [
    "meta = pd.read_csv('../processed_data/train.csv', index_col=0)\n",
    "augmented = pd.read_csv('../processed_data/augmented.csv', index_col=0)\n",
    "meta.head()"
   ]
  },
  {
   "cell_type": "code",
   "execution_count": 3,
   "metadata": {},
   "outputs": [
    {
     "data": {
      "text/html": [
       "<div>\n",
       "<style scoped>\n",
       "    .dataframe tbody tr th:only-of-type {\n",
       "        vertical-align: middle;\n",
       "    }\n",
       "\n",
       "    .dataframe tbody tr th {\n",
       "        vertical-align: top;\n",
       "    }\n",
       "\n",
       "    .dataframe thead th {\n",
       "        text-align: right;\n",
       "    }\n",
       "</style>\n",
       "<table border=\"1\" class=\"dataframe\">\n",
       "  <thead>\n",
       "    <tr style=\"text-align: right;\">\n",
       "      <th></th>\n",
       "      <th>age_approx</th>\n",
       "      <th>female</th>\n",
       "      <th>male</th>\n",
       "      <th>head/neck</th>\n",
       "      <th>lower extremity</th>\n",
       "      <th>oral/genital</th>\n",
       "      <th>palms/soles</th>\n",
       "      <th>torso</th>\n",
       "      <th>upper extremity</th>\n",
       "      <th>target</th>\n",
       "    </tr>\n",
       "  </thead>\n",
       "  <tbody>\n",
       "    <tr>\n",
       "      <th>0</th>\n",
       "      <td>55.0</td>\n",
       "      <td>1</td>\n",
       "      <td>0</td>\n",
       "      <td>0</td>\n",
       "      <td>0</td>\n",
       "      <td>0</td>\n",
       "      <td>0</td>\n",
       "      <td>0</td>\n",
       "      <td>1</td>\n",
       "      <td>1</td>\n",
       "    </tr>\n",
       "    <tr>\n",
       "      <th>1</th>\n",
       "      <td>50.0</td>\n",
       "      <td>1</td>\n",
       "      <td>0</td>\n",
       "      <td>0</td>\n",
       "      <td>0</td>\n",
       "      <td>0</td>\n",
       "      <td>0</td>\n",
       "      <td>0</td>\n",
       "      <td>1</td>\n",
       "      <td>1</td>\n",
       "    </tr>\n",
       "    <tr>\n",
       "      <th>2</th>\n",
       "      <td>55.0</td>\n",
       "      <td>0</td>\n",
       "      <td>1</td>\n",
       "      <td>0</td>\n",
       "      <td>0</td>\n",
       "      <td>0</td>\n",
       "      <td>0</td>\n",
       "      <td>1</td>\n",
       "      <td>0</td>\n",
       "      <td>1</td>\n",
       "    </tr>\n",
       "    <tr>\n",
       "      <th>3</th>\n",
       "      <td>65.0</td>\n",
       "      <td>0</td>\n",
       "      <td>1</td>\n",
       "      <td>0</td>\n",
       "      <td>0</td>\n",
       "      <td>0</td>\n",
       "      <td>0</td>\n",
       "      <td>1</td>\n",
       "      <td>0</td>\n",
       "      <td>1</td>\n",
       "    </tr>\n",
       "    <tr>\n",
       "      <th>4</th>\n",
       "      <td>65.0</td>\n",
       "      <td>1</td>\n",
       "      <td>0</td>\n",
       "      <td>0</td>\n",
       "      <td>1</td>\n",
       "      <td>0</td>\n",
       "      <td>0</td>\n",
       "      <td>0</td>\n",
       "      <td>0</td>\n",
       "      <td>1</td>\n",
       "    </tr>\n",
       "  </tbody>\n",
       "</table>\n",
       "</div>"
      ],
      "text/plain": [
       "   age_approx  female  male  head/neck  lower extremity  oral/genital  \\\n",
       "0        55.0       1     0          0                0             0   \n",
       "1        50.0       1     0          0                0             0   \n",
       "2        55.0       0     1          0                0             0   \n",
       "3        65.0       0     1          0                0             0   \n",
       "4        65.0       1     0          0                1             0   \n",
       "\n",
       "   palms/soles  torso  upper extremity  target  \n",
       "0            0      0                1       1  \n",
       "1            0      0                1       1  \n",
       "2            0      1                0       1  \n",
       "3            0      1                0       1  \n",
       "4            0      0                0       1  "
      ]
     },
     "execution_count": 3,
     "metadata": {},
     "output_type": "execute_result"
    }
   ],
   "source": [
    "augmented.head()"
   ]
  },
  {
   "cell_type": "code",
   "execution_count": 4,
   "metadata": {},
   "outputs": [],
   "source": [
    "meta = pd.concat([meta, augmented], axis=0).fillna(0)"
   ]
  },
  {
   "cell_type": "code",
   "execution_count": 5,
   "metadata": {},
   "outputs": [
    {
     "data": {
      "text/html": [
       "<div>\n",
       "<style scoped>\n",
       "    .dataframe tbody tr th:only-of-type {\n",
       "        vertical-align: middle;\n",
       "    }\n",
       "\n",
       "    .dataframe tbody tr th {\n",
       "        vertical-align: top;\n",
       "    }\n",
       "\n",
       "    .dataframe thead th {\n",
       "        text-align: right;\n",
       "    }\n",
       "</style>\n",
       "<table border=\"1\" class=\"dataframe\">\n",
       "  <thead>\n",
       "    <tr style=\"text-align: right;\">\n",
       "      <th></th>\n",
       "      <th>age_approx</th>\n",
       "      <th>Unknown</th>\n",
       "      <th>female</th>\n",
       "      <th>male</th>\n",
       "      <th>head/neck</th>\n",
       "      <th>lower extremity</th>\n",
       "      <th>oral/genital</th>\n",
       "      <th>palms/soles</th>\n",
       "      <th>torso</th>\n",
       "      <th>upper extremity</th>\n",
       "      <th>target</th>\n",
       "    </tr>\n",
       "  </thead>\n",
       "  <tbody>\n",
       "    <tr>\n",
       "      <th>1747</th>\n",
       "      <td>55.0</td>\n",
       "      <td>0.0</td>\n",
       "      <td>0</td>\n",
       "      <td>1</td>\n",
       "      <td>0</td>\n",
       "      <td>0</td>\n",
       "      <td>0</td>\n",
       "      <td>0</td>\n",
       "      <td>0</td>\n",
       "      <td>1</td>\n",
       "      <td>1</td>\n",
       "    </tr>\n",
       "    <tr>\n",
       "      <th>1748</th>\n",
       "      <td>70.0</td>\n",
       "      <td>0.0</td>\n",
       "      <td>0</td>\n",
       "      <td>1</td>\n",
       "      <td>0</td>\n",
       "      <td>0</td>\n",
       "      <td>0</td>\n",
       "      <td>0</td>\n",
       "      <td>1</td>\n",
       "      <td>0</td>\n",
       "      <td>1</td>\n",
       "    </tr>\n",
       "    <tr>\n",
       "      <th>1749</th>\n",
       "      <td>60.0</td>\n",
       "      <td>0.0</td>\n",
       "      <td>0</td>\n",
       "      <td>1</td>\n",
       "      <td>0</td>\n",
       "      <td>0</td>\n",
       "      <td>0</td>\n",
       "      <td>0</td>\n",
       "      <td>0</td>\n",
       "      <td>1</td>\n",
       "      <td>1</td>\n",
       "    </tr>\n",
       "    <tr>\n",
       "      <th>1750</th>\n",
       "      <td>65.0</td>\n",
       "      <td>0.0</td>\n",
       "      <td>0</td>\n",
       "      <td>1</td>\n",
       "      <td>0</td>\n",
       "      <td>1</td>\n",
       "      <td>0</td>\n",
       "      <td>0</td>\n",
       "      <td>0</td>\n",
       "      <td>0</td>\n",
       "      <td>1</td>\n",
       "    </tr>\n",
       "    <tr>\n",
       "      <th>1751</th>\n",
       "      <td>60.0</td>\n",
       "      <td>0.0</td>\n",
       "      <td>0</td>\n",
       "      <td>1</td>\n",
       "      <td>1</td>\n",
       "      <td>0</td>\n",
       "      <td>0</td>\n",
       "      <td>0</td>\n",
       "      <td>0</td>\n",
       "      <td>0</td>\n",
       "      <td>1</td>\n",
       "    </tr>\n",
       "  </tbody>\n",
       "</table>\n",
       "</div>"
      ],
      "text/plain": [
       "      age_approx  Unknown  female  male  head/neck  lower extremity  \\\n",
       "1747        55.0      0.0       0     1          0                0   \n",
       "1748        70.0      0.0       0     1          0                0   \n",
       "1749        60.0      0.0       0     1          0                0   \n",
       "1750        65.0      0.0       0     1          0                1   \n",
       "1751        60.0      0.0       0     1          1                0   \n",
       "\n",
       "      oral/genital  palms/soles  torso  upper extremity  target  \n",
       "1747             0            0      0                1       1  \n",
       "1748             0            0      1                0       1  \n",
       "1749             0            0      0                1       1  \n",
       "1750             0            0      0                0       1  \n",
       "1751             0            0      0                0       1  "
      ]
     },
     "execution_count": 5,
     "metadata": {},
     "output_type": "execute_result"
    }
   ],
   "source": [
    "meta.tail()"
   ]
  },
  {
   "cell_type": "markdown",
   "metadata": {},
   "source": [
    "### Metadata"
   ]
  },
  {
   "cell_type": "code",
   "execution_count": 6,
   "metadata": {},
   "outputs": [],
   "source": [
    "y = meta['target'].values.reshape(-1,1)\n",
    "X = meta.drop('target', axis=1)\n",
    "meta_train, meta_test, y_train, y_test = train_test_split(X, y, test_size=0.3 ,random_state=867_5309, stratify=y)"
   ]
  },
  {
   "cell_type": "code",
   "execution_count": 7,
   "metadata": {},
   "outputs": [],
   "source": [
    "meta_train = meta_train.astype('ushort')\n",
    "meta_test = meta_test.astype('ushort')"
   ]
  },
  {
   "cell_type": "code",
   "execution_count": 8,
   "metadata": {},
   "outputs": [
    {
     "data": {
      "text/plain": [
       "(24414, 10)"
      ]
     },
     "execution_count": 8,
     "metadata": {},
     "output_type": "execute_result"
    }
   ],
   "source": [
    "meta_train.shape"
   ]
  },
  {
   "cell_type": "code",
   "execution_count": 9,
   "metadata": {},
   "outputs": [
    {
     "data": {
      "text/plain": [
       "(24414, 1)"
      ]
     },
     "execution_count": 9,
     "metadata": {},
     "output_type": "execute_result"
    }
   ],
   "source": [
    "y_train.shape"
   ]
  },
  {
   "cell_type": "markdown",
   "metadata": {},
   "source": [
    "See `fchollet`'s discussion of class weights [here](https://keras.io/examples/structured_data/imbalanced_classification/)."
   ]
  },
  {
   "cell_type": "code",
   "execution_count": 10,
   "metadata": {},
   "outputs": [],
   "source": [
    "weight_for_0 = 1.0 / ((len(y_train)-y_train.sum())/len(y_train))\n",
    "weight_for_1 = 1.0 / (y_train.sum()/len(y_train))\n",
    "class_weight = {0: weight_for_0, 1: weight_for_1}"
   ]
  },
  {
   "cell_type": "markdown",
   "metadata": {},
   "source": [
    "### Image data"
   ]
  },
  {
   "cell_type": "code",
   "execution_count": 11,
   "metadata": {},
   "outputs": [],
   "source": [
    "ORIGINAL_PATH = '../processed_data/processed_train_img_array.pkl'\n",
    "AUGMENTED_PATH = '../processed_data/processed_augmented_img_array.pkl'\n",
    "with open(ORIGINAL_PATH, 'rb') as file:\n",
    "    original_img_array = pickle.load(file)\n",
    "with open(AUGMENTED_PATH, 'rb') as file:\n",
    "    augmented_img_array = pickle.load(file)\n",
    "img_array = np.vstack([original_img_array, augmented_img_array])\n",
    "img_array = img_array.astype('ushort')\n",
    "img_train, img_test, _1, _2 = train_test_split(img_array, y, test_size=0.3, random_state=867_5309) # Should split exactly the same as above"
   ]
  },
  {
   "cell_type": "code",
   "execution_count": 12,
   "metadata": {},
   "outputs": [
    {
     "data": {
      "text/plain": [
       "(24414, 80, 120, 3)"
      ]
     },
     "execution_count": 12,
     "metadata": {},
     "output_type": "execute_result"
    }
   ],
   "source": [
    "img_train.shape"
   ]
  },
  {
   "cell_type": "code",
   "execution_count": 13,
   "metadata": {},
   "outputs": [
    {
     "data": {
      "text/plain": [
       "(10464, 80, 120, 3)"
      ]
     },
     "execution_count": 13,
     "metadata": {},
     "output_type": "execute_result"
    }
   ],
   "source": [
    "img_test.shape"
   ]
  },
  {
   "cell_type": "markdown",
   "metadata": {},
   "source": [
    "### Model"
   ]
  },
  {
   "cell_type": "code",
   "execution_count": 14,
   "metadata": {},
   "outputs": [
    {
     "name": "stdout",
     "output_type": "stream",
     "text": [
      "Model: \"model\"\n",
      "__________________________________________________________________________________________________\n",
      "Layer (type)                    Output Shape         Param #     Connected to                     \n",
      "==================================================================================================\n",
      "input_2 (InputLayer)            [(None, 80, 120, 3)] 0                                            \n",
      "__________________________________________________________________________________________________\n",
      "xception (Functional)           (None, 3, 4, 2048)   20861480    input_2[0][0]                    \n",
      "__________________________________________________________________________________________________\n",
      "input_1 (InputLayer)            [(None, 10)]         0                                            \n",
      "__________________________________________________________________________________________________\n",
      "conv2d_4 (Conv2D)               (None, 3, 4, 8)      409608      xception[0][0]                   \n",
      "__________________________________________________________________________________________________\n",
      "dense (Dense)                   (None, 4)            44          input_1[0][0]                    \n",
      "__________________________________________________________________________________________________\n",
      "global_average_pooling2d (Globa (None, 8)            0           conv2d_4[0][0]                   \n",
      "__________________________________________________________________________________________________\n",
      "concatenate (Concatenate)       (None, 12)           0           dense[0][0]                      \n",
      "                                                                 global_average_pooling2d[0][0]   \n",
      "__________________________________________________________________________________________________\n",
      "dense_1 (Dense)                 (None, 4)            52          concatenate[0][0]                \n",
      "__________________________________________________________________________________________________\n",
      "dense_2 (Dense)                 (None, 1)            5           dense_1[0][0]                    \n",
      "==================================================================================================\n",
      "Total params: 21,271,189\n",
      "Trainable params: 21,216,661\n",
      "Non-trainable params: 54,528\n",
      "__________________________________________________________________________________________________\n"
     ]
    }
   ],
   "source": [
    "LEARNING_RATE = 0.001\n",
    "\n",
    "# Define inputs\n",
    "meta_inputs = Input(shape=(10,))\n",
    "img_inputs = Input(shape=(80,120,3,))\n",
    "\n",
    "# Model 1\n",
    "meta_layer1 = Dense(4, activation='relu')(meta_inputs)\n",
    "\n",
    "# Model 2\n",
    "xception_layer = Xception(include_top=False, input_shape=(80,120,3,))(img_inputs)\n",
    "img_conv_layer1 = Conv2D(8, kernel_size=(5,5), padding='same', activation='relu')(xception_layer)\n",
    "img_gap_layer = GlobalAveragePooling2D()(img_conv_layer1)\n",
    "img_dropout_layer = Dropout(rate=0.5, seed=42)(img_gap_layer)\n",
    "\n",
    "# Merge models\n",
    "merged_layer = Concatenate()([meta_layer1, img_dropout_layer])\n",
    "merged_dense_layer = Dense(4, activation='relu')(merged_layer)\n",
    "merged_output = Dense(1, activation='sigmoid')(merged_dense_layer)\n",
    "\n",
    "\n",
    "# Define functional model\n",
    "model = Model(inputs=[meta_inputs, img_inputs], outputs=merged_output)\n",
    "\n",
    "# Compile model\n",
    "auc = AUC(name = 'auc')\n",
    "model.compile(Adam(learning_rate=LEARNING_RATE), loss='binary_crossentropy', metrics=[auc])\n",
    "model.summary()"
   ]
  },
  {
   "cell_type": "code",
   "execution_count": 15,
   "metadata": {},
   "outputs": [
    {
     "name": "stdout",
     "output_type": "stream",
     "text": [
      "Epoch 1/10\n",
      "245/245 [==============================] - 106s 395ms/step - loss: 2.1845 - auc: 0.6064 - val_loss: 0.5112 - val_auc: 0.6679\n",
      "Epoch 2/10\n",
      "245/245 [==============================] - 99s 405ms/step - loss: 1.3026 - auc: 0.6651 - val_loss: 0.8093 - val_auc: 0.6799\n",
      "Epoch 3/10\n",
      "245/245 [==============================] - 116s 475ms/step - loss: 1.2841 - auc: 0.6795 - val_loss: 0.6372 - val_auc: 0.6612\n",
      "Epoch 4/10\n",
      "245/245 [==============================] - 98s 400ms/step - loss: 1.2742 - auc: 0.6996 - val_loss: 0.6325 - val_auc: 0.6283\n",
      "Epoch 5/10\n",
      "245/245 [==============================] - 209s 853ms/step - loss: 1.2305 - auc: 0.7249 - val_loss: 0.6389 - val_auc: 0.6666\n",
      "Epoch 6/10\n",
      "245/245 [==============================] - 166s 678ms/step - loss: 1.1370 - auc: 0.7778 - val_loss: 0.8867 - val_auc: 0.6324\n",
      "Epoch 7/10\n",
      "245/245 [==============================] - 115s 471ms/step - loss: 1.0293 - auc: 0.8236 - val_loss: 0.6199 - val_auc: 0.6083\n",
      "Epoch 8/10\n",
      "245/245 [==============================] - 116s 474ms/step - loss: 0.8859 - auc: 0.8755 - val_loss: 0.7110 - val_auc: 0.6030\n",
      "Epoch 9/10\n",
      "245/245 [==============================] - 162s 661ms/step - loss: 0.7071 - auc: 0.9235 - val_loss: 0.4095 - val_auc: 0.5721\n",
      "Epoch 10/10\n",
      "245/245 [==============================] - 167s 682ms/step - loss: 0.5572 - auc: 0.9533 - val_loss: 0.3507 - val_auc: 0.6070\n"
     ]
    }
   ],
   "source": [
    "epochs = 10\n",
    "history = model.fit([meta_train, img_train], y_train, epochs=epochs, batch_size=100, validation_data=([meta_test, img_test], y_test), class_weight=class_weight)"
   ]
  },
  {
   "cell_type": "code",
   "execution_count": 16,
   "metadata": {},
   "outputs": [
    {
     "data": {
      "image/png": "[encoded data removed]",
      "text/plain": [
       "<Figure size 1440x864 with 2 Axes>"
      ]
     },
     "metadata": {
      "needs_background": "light"
     },
     "output_type": "display_data"
    }
   ],
   "source": [
    "X = np.arange(0, epochs)\n",
    "\n",
    "plt.figure(1, figsize = (20, 12))\n",
    "plt.subplot(1,2,1)\n",
    "plt.xlabel('Epochs')\n",
    "plt.ylabel('Loss')\n",
    "plt.plot(X, history.history['loss'], label = 'Training Loss')\n",
    "plt.plot(X, history.history['val_loss'], label = 'Validation Loss')\n",
    "plt.grid(True)\n",
    "plt.xticks(X+1)\n",
    "plt.legend()\n",
    "plt.title('Loss', fontsize=30)\n",
    "\n",
    "plt.subplot(1,2,2)\n",
    "plt.xlabel('Epochs')\n",
    "plt.ylabel('AUC')\n",
    "plt.plot(X, history.history['auc'], label = 'Training AUC')\n",
    "plt.plot(X, history.history['val_auc'], label = 'Validation AUC')\n",
    "plt.grid(True)\n",
    "plt.xticks(X+1)\n",
    "plt.legend()\n",
    "_ = plt.title('AUC', fontsize=30)"
   ]
  },
  {
   "cell_type": "markdown",
   "metadata": {},
   "source": [
    "Model 4 has overfit the training data more than any other model thus far. We see this beginning around Epoch 5, as the training and validation AUC begin to diverge. Rotation appears to have done significant damage; perhaps there are other augmentation techniques that need to be implemented as well."
   ]
  },
  {
   "cell_type": "code",
   "execution_count": 17,
   "metadata": {},
   "outputs": [
    {
     "name": "stdout",
     "output_type": "stream",
     "text": [
      "              precision    recall  f1-score   support\n",
      "\n",
      "           0       0.94      0.93      0.93      9763\n",
      "           1       0.13      0.14      0.13       701\n",
      "\n",
      "    accuracy                           0.88     10464\n",
      "   macro avg       0.53      0.53      0.53     10464\n",
      "weighted avg       0.88      0.88      0.88     10464\n",
      "\n"
     ]
    }
   ],
   "source": [
    "y_pred = model.predict([meta_test, img_test])\n",
    "y_pred = np.array([int(i) for i in y_pred > 0.5])\n",
    "print(classification_report(y_test, y_pred))"
   ]
  }
 ],
 "metadata": {
  "kernelspec": {
   "display_name": "Python 3",
   "language": "python",
   "name": "python3"
  },
  "language_info": {
   "codemirror_mode": {
    "name": "ipython",
    "version": 3
   },
   "file_extension": ".py",
   "mimetype": "text/x-python",
   "name": "python",
   "nbconvert_exporter": "python",
   "pygments_lexer": "ipython3",
   "version": "3.8.5"
  }
 },
 "nbformat": 4,
 "nbformat_minor": 4
}
