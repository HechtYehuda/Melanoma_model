{
 "cells": [
  {
   "cell_type": "code",
   "execution_count": 1,
   "metadata": {
    "scrolled": true
   },
   "outputs": [],
   "source": [
    "import modin.pandas as pd\n",
    "import numpy as np\n",
    "import matplotlib.pyplot as plt\n",
    "%matplotlib inline"
   ]
  },
  {
   "cell_type": "markdown",
   "metadata": {},
   "source": [
    "### EDA preprocessing"
   ]
  },
  {
   "cell_type": "code",
   "execution_count": 2,
   "metadata": {
    "scrolled": true
   },
   "outputs": [
    {
     "name": "stderr",
     "output_type": "stream",
     "text": [
      "UserWarning: Dask execution environment not yet initialized. Initializing...\n",
      "To remove this warning, run the following python code before doing dataframe operations:\n",
      "\n",
      "    from distributed import Client\n",
      "\n",
      "    client = Client()\n",
      "\n"
     ]
    }
   ],
   "source": [
    "client = Client()\n",
    "df = pd.read_csv('../data/eda.csv', index_col=0)\n",
    "\n",
    "meta = df.iloc[:,:8]\n",
    "blue = df.loc[:,df.columns.str.contains('blue')]\n",
    "green = df.loc[:,df.columns.str.contains('green')]\n",
    "red = df.loc[:,df.columns.str.contains('red')]\n",
    "\n",
    "blue_eda = pd.concat([meta, blue], axis=1)\n",
    "green_eda = pd.concat([meta, green], axis=1)\n",
    "red_eda = pd.concat([meta, red], axis=1)"
   ]
  },
  {
   "cell_type": "markdown",
   "metadata": {},
   "source": [
    "### EDA features"
   ]
  },
  {
   "cell_type": "markdown",
   "metadata": {},
   "source": [
    "#### Range"
   ]
  },
  {
   "cell_type": "code",
   "execution_count": 3,
   "metadata": {},
   "outputs": [],
   "source": [
    "blue_eda['range'] = blue.max(axis=1) - blue.min(axis=1)\n",
    "green_eda['range'] = green.max(axis=1) - green.min(axis=1)\n",
    "red_eda['range'] = red.max(axis=1) - red.min(axis=1)"
   ]
  },
  {
   "cell_type": "markdown",
   "metadata": {},
   "source": [
    "#### IQR"
   ]
  },
  {
   "cell_type": "code",
   "execution_count": 4,
   "metadata": {},
   "outputs": [
    {
     "name": "stderr",
     "output_type": "stream",
     "text": [
      "UserWarning: User-defined function verification is still under development in Modin. The function provided is not verified.\n"
     ]
    }
   ],
   "source": [
    "blue_quartiles = blue.apply(np.percentile, axis=1, q=[25,75])\n",
    "blue_eda['iqr'] = blue_quartiles.apply(lambda x: x[1] - x[0])\n",
    "\n",
    "green_quartiles = green.apply(np.percentile, axis=1, q=[25,75])\n",
    "green_eda['iqr'] = green_quartiles.apply(lambda x: x[1] - x[0])\n",
    "\n",
    "red_quartiles = red.apply(np.percentile, axis=1, q=[25,75])\n",
    "red_eda['iqr'] = red_quartiles.apply(lambda x: x[1] - x[0])"
   ]
  },
  {
   "cell_type": "code",
   "execution_count": null,
   "metadata": {},
   "outputs": [],
   "source": []
  }
 ],
 "metadata": {
  "kernelspec": {
   "display_name": "Python 3",
   "language": "python",
   "name": "python3"
  },
  "language_info": {
   "codemirror_mode": {
    "name": "ipython",
    "version": 3
   },
   "file_extension": ".py",
   "mimetype": "text/x-python",
   "name": "python",
   "nbconvert_exporter": "python",
   "pygments_lexer": "ipython3",
   "version": "3.8.5"
  }
 },
 "nbformat": 4,
 "nbformat_minor": 4
}
